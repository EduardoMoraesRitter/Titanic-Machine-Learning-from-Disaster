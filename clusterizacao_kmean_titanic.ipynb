{
  "nbformat": 4,
  "nbformat_minor": 0,
  "metadata": {
    "colab": {
      "name": "clusterizacao_kmean_titanic",
      "provenance": [],
      "authorship_tag": "ABX9TyPrD8mOlR6UyFUw3qbDCKtV",
      "include_colab_link": true
    },
    "kernelspec": {
      "name": "python3",
      "display_name": "Python 3"
    }
  },
  "cells": [
    {
      "cell_type": "markdown",
      "metadata": {
        "id": "view-in-github",
        "colab_type": "text"
      },
      "source": [
        "<a href=\"https://colab.research.google.com/github/EduardoMoraesRitter/Titanic-Machine-Learning-from-Disaster/blob/master/clusterizacao_kmean_titanic.ipynb\" target=\"_parent\"><img src=\"https://colab.research.google.com/assets/colab-badge.svg\" alt=\"Open In Colab\"/></a>"
      ]
    },
    {
      "cell_type": "code",
      "metadata": {
        "id": "5z8J1oUKZrsG",
        "colab_type": "code",
        "colab": {}
      },
      "source": [
        "import pandas as pd\n",
        "import matplotlib.pyplot as plt\n",
        "import seaborn as sns"
      ],
      "execution_count": 0,
      "outputs": []
    },
    {
      "cell_type": "code",
      "metadata": {
        "id": "as8y87tCZeTM",
        "colab_type": "code",
        "colab": {
          "base_uri": "https://localhost:8080/",
          "height": 195
        },
        "outputId": "a5b56ee3-7a25-4758-95ca-5b820a274c10"
      },
      "source": [
        "train = pd.read_csv('https://raw.githubusercontent.com/EduardoMoraesRitter/Titanic-Machine-Learning-from-Disaster/master/train.csv')\n",
        "test = pd.read_csv('https://raw.githubusercontent.com/EduardoMoraesRitter/Titanic-Machine-Learning-from-Disaster/master/test.csv')\n",
        "\n",
        "train.head()"
      ],
      "execution_count": 100,
      "outputs": [
        {
          "output_type": "execute_result",
          "data": {
            "text/html": [
              "<div>\n",
              "<style scoped>\n",
              "    .dataframe tbody tr th:only-of-type {\n",
              "        vertical-align: middle;\n",
              "    }\n",
              "\n",
              "    .dataframe tbody tr th {\n",
              "        vertical-align: top;\n",
              "    }\n",
              "\n",
              "    .dataframe thead th {\n",
              "        text-align: right;\n",
              "    }\n",
              "</style>\n",
              "<table border=\"1\" class=\"dataframe\">\n",
              "  <thead>\n",
              "    <tr style=\"text-align: right;\">\n",
              "      <th></th>\n",
              "      <th>PassengerId</th>\n",
              "      <th>Survived</th>\n",
              "      <th>Pclass</th>\n",
              "      <th>Name</th>\n",
              "      <th>Sex</th>\n",
              "      <th>Age</th>\n",
              "      <th>SibSp</th>\n",
              "      <th>Parch</th>\n",
              "      <th>Ticket</th>\n",
              "      <th>Fare</th>\n",
              "      <th>Cabin</th>\n",
              "      <th>Embarked</th>\n",
              "    </tr>\n",
              "  </thead>\n",
              "  <tbody>\n",
              "    <tr>\n",
              "      <th>0</th>\n",
              "      <td>1</td>\n",
              "      <td>0</td>\n",
              "      <td>3</td>\n",
              "      <td>Braund, Mr. Owen Harris</td>\n",
              "      <td>male</td>\n",
              "      <td>22.0</td>\n",
              "      <td>1</td>\n",
              "      <td>0</td>\n",
              "      <td>A/5 21171</td>\n",
              "      <td>7.2500</td>\n",
              "      <td>NaN</td>\n",
              "      <td>S</td>\n",
              "    </tr>\n",
              "    <tr>\n",
              "      <th>1</th>\n",
              "      <td>2</td>\n",
              "      <td>1</td>\n",
              "      <td>1</td>\n",
              "      <td>Cumings, Mrs. John Bradley (Florence Briggs Th...</td>\n",
              "      <td>female</td>\n",
              "      <td>38.0</td>\n",
              "      <td>1</td>\n",
              "      <td>0</td>\n",
              "      <td>PC 17599</td>\n",
              "      <td>71.2833</td>\n",
              "      <td>C85</td>\n",
              "      <td>C</td>\n",
              "    </tr>\n",
              "    <tr>\n",
              "      <th>2</th>\n",
              "      <td>3</td>\n",
              "      <td>1</td>\n",
              "      <td>3</td>\n",
              "      <td>Heikkinen, Miss. Laina</td>\n",
              "      <td>female</td>\n",
              "      <td>26.0</td>\n",
              "      <td>0</td>\n",
              "      <td>0</td>\n",
              "      <td>STON/O2. 3101282</td>\n",
              "      <td>7.9250</td>\n",
              "      <td>NaN</td>\n",
              "      <td>S</td>\n",
              "    </tr>\n",
              "    <tr>\n",
              "      <th>3</th>\n",
              "      <td>4</td>\n",
              "      <td>1</td>\n",
              "      <td>1</td>\n",
              "      <td>Futrelle, Mrs. Jacques Heath (Lily May Peel)</td>\n",
              "      <td>female</td>\n",
              "      <td>35.0</td>\n",
              "      <td>1</td>\n",
              "      <td>0</td>\n",
              "      <td>113803</td>\n",
              "      <td>53.1000</td>\n",
              "      <td>C123</td>\n",
              "      <td>S</td>\n",
              "    </tr>\n",
              "    <tr>\n",
              "      <th>4</th>\n",
              "      <td>5</td>\n",
              "      <td>0</td>\n",
              "      <td>3</td>\n",
              "      <td>Allen, Mr. William Henry</td>\n",
              "      <td>male</td>\n",
              "      <td>35.0</td>\n",
              "      <td>0</td>\n",
              "      <td>0</td>\n",
              "      <td>373450</td>\n",
              "      <td>8.0500</td>\n",
              "      <td>NaN</td>\n",
              "      <td>S</td>\n",
              "    </tr>\n",
              "  </tbody>\n",
              "</table>\n",
              "</div>"
            ],
            "text/plain": [
              "   PassengerId  Survived  Pclass  ...     Fare Cabin  Embarked\n",
              "0            1         0       3  ...   7.2500   NaN         S\n",
              "1            2         1       1  ...  71.2833   C85         C\n",
              "2            3         1       3  ...   7.9250   NaN         S\n",
              "3            4         1       1  ...  53.1000  C123         S\n",
              "4            5         0       3  ...   8.0500   NaN         S\n",
              "\n",
              "[5 rows x 12 columns]"
            ]
          },
          "metadata": {
            "tags": []
          },
          "execution_count": 100
        }
      ]
    },
    {
      "cell_type": "code",
      "metadata": {
        "id": "HEWckp__Zivk",
        "colab_type": "code",
        "colab": {
          "base_uri": "https://localhost:8080/",
          "height": 286
        },
        "outputId": "f62b22fe-61a6-4fca-cd3f-870ff0f6cc2d"
      },
      "source": [
        "plt.figure(figsize=(10,4))\n",
        "sns.heatmap(train.corr(), annot=True, cmap='Greens')"
      ],
      "execution_count": 101,
      "outputs": [
        {
          "output_type": "execute_result",
          "data": {
            "text/plain": [
              "<matplotlib.axes._subplots.AxesSubplot at 0x7f91d42aa710>"
            ]
          },
          "metadata": {
            "tags": []
          },
          "execution_count": 101
        },
        {
          "output_type": "display_data",
          "data": {
            "image/png": "[encoded data removed]",
            "text/plain": [
              "<Figure size 720x288 with 2 Axes>"
            ]
          },
          "metadata": {
            "tags": [],
            "needs_background": "light"
          }
        }
      ]
    },
    {
      "cell_type": "code",
      "metadata": {
        "id": "QzDePv1Hj9sf",
        "colab_type": "code",
        "colab": {}
      },
      "source": [
        "train.drop(['Name', 'Ticket', 'Cabin', 'PassengerId'], axis=1, inplace=True)\n",
        "test.drop(['Name', 'Ticket', 'Cabin'], axis=1, inplace=True)"
      ],
      "execution_count": 0,
      "outputs": []
    },
    {
      "cell_type": "code",
      "metadata": {
        "id": "WMMFbYBWj9v2",
        "colab_type": "code",
        "colab": {
          "base_uri": "https://localhost:8080/",
          "height": 470
        },
        "outputId": "19bd25e3-b547-421f-f3c6-36367a435a6f"
      },
      "source": [
        "print('antes \\n', train.isnull().sum())\n",
        "\n",
        "from sklearn.impute import SimpleImputer\n",
        "imputer = SimpleImputer(strategy=\"median\")\n",
        "\n",
        "train_numerico = train.drop(['Sex','Embarked'], axis=1)\n",
        "test_numerico = test.drop(['Sex','Embarked'], axis=1)\n",
        "\n",
        "imputer.fit(train_numerico)\n",
        "train_no_null = imputer.transform(train_numerico)\n",
        "\n",
        "imputer.fit(test_numerico)\n",
        "test_no_null = imputer.transform(test_numerico)\n",
        "\n",
        "train_tr = pd.DataFrame(train_no_null, columns=train_numerico.columns)\n",
        "test_tr = pd.DataFrame(test_no_null, columns=test_numerico.columns)\n",
        "\n",
        "print('\\n depois \\n', train.isnull().sum())\n",
        "\n",
        "print(train_tr.head())"
      ],
      "execution_count": 103,
      "outputs": [
        {
          "output_type": "stream",
          "text": [
            "antes \n",
            " Survived      0\n",
            "Pclass        0\n",
            "Sex           0\n",
            "Age         177\n",
            "SibSp         0\n",
            "Parch         0\n",
            "Fare          0\n",
            "Embarked      2\n",
            "dtype: int64\n",
            "\n",
            " depois \n",
            " Survived      0\n",
            "Pclass        0\n",
            "Sex           0\n",
            "Age         177\n",
            "SibSp         0\n",
            "Parch         0\n",
            "Fare          0\n",
            "Embarked      2\n",
            "dtype: int64\n",
            "   Survived  Pclass   Age  SibSp  Parch     Fare\n",
            "0       0.0     3.0  22.0    1.0    0.0   7.2500\n",
            "1       1.0     1.0  38.0    1.0    0.0  71.2833\n",
            "2       1.0     3.0  26.0    0.0    0.0   7.9250\n",
            "3       1.0     1.0  35.0    1.0    0.0  53.1000\n",
            "4       0.0     3.0  35.0    0.0    0.0   8.0500\n"
          ],
          "name": "stdout"
        }
      ]
    },
    {
      "cell_type": "code",
      "metadata": {
        "id": "RROtiChwkEUt",
        "colab_type": "code",
        "colab": {
          "base_uri": "https://localhost:8080/",
          "height": 195
        },
        "outputId": "12ced704-2c94-470d-cb37-60091ee660c5"
      },
      "source": [
        "train_cat = train[['Sex', 'Embarked']]\n",
        "test_cat = test[['Sex', 'Embarked']]\n",
        "\n",
        "train_cat_encoded = pd.get_dummies(train_cat)\n",
        "test_cat_encoded = pd.get_dummies(test_cat)\n",
        "\n",
        "train_cat_encoded.head()\n",
        "\n",
        "train = train_tr.join(train_cat_encoded)\n",
        "train = test_tr.join(test_cat_encoded)\n",
        "train.head()"
      ],
      "execution_count": 104,
      "outputs": [
        {
          "output_type": "execute_result",
          "data": {
            "text/html": [
              "<div>\n",
              "<style scoped>\n",
              "    .dataframe tbody tr th:only-of-type {\n",
              "        vertical-align: middle;\n",
              "    }\n",
              "\n",
              "    .dataframe tbody tr th {\n",
              "        vertical-align: top;\n",
              "    }\n",
              "\n",
              "    .dataframe thead th {\n",
              "        text-align: right;\n",
              "    }\n",
              "</style>\n",
              "<table border=\"1\" class=\"dataframe\">\n",
              "  <thead>\n",
              "    <tr style=\"text-align: right;\">\n",
              "      <th></th>\n",
              "      <th>PassengerId</th>\n",
              "      <th>Pclass</th>\n",
              "      <th>Age</th>\n",
              "      <th>SibSp</th>\n",
              "      <th>Parch</th>\n",
              "      <th>Fare</th>\n",
              "      <th>Sex_female</th>\n",
              "      <th>Sex_male</th>\n",
              "      <th>Embarked_C</th>\n",
              "      <th>Embarked_Q</th>\n",
              "      <th>Embarked_S</th>\n",
              "    </tr>\n",
              "  </thead>\n",
              "  <tbody>\n",
              "    <tr>\n",
              "      <th>0</th>\n",
              "      <td>892.0</td>\n",
              "      <td>3.0</td>\n",
              "      <td>34.5</td>\n",
              "      <td>0.0</td>\n",
              "      <td>0.0</td>\n",
              "      <td>7.8292</td>\n",
              "      <td>0</td>\n",
              "      <td>1</td>\n",
              "      <td>0</td>\n",
              "      <td>1</td>\n",
              "      <td>0</td>\n",
              "    </tr>\n",
              "    <tr>\n",
              "      <th>1</th>\n",
              "      <td>893.0</td>\n",
              "      <td>3.0</td>\n",
              "      <td>47.0</td>\n",
              "      <td>1.0</td>\n",
              "      <td>0.0</td>\n",
              "      <td>7.0000</td>\n",
              "      <td>1</td>\n",
              "      <td>0</td>\n",
              "      <td>0</td>\n",
              "      <td>0</td>\n",
              "      <td>1</td>\n",
              "    </tr>\n",
              "    <tr>\n",
              "      <th>2</th>\n",
              "      <td>894.0</td>\n",
              "      <td>2.0</td>\n",
              "      <td>62.0</td>\n",
              "      <td>0.0</td>\n",
              "      <td>0.0</td>\n",
              "      <td>9.6875</td>\n",
              "      <td>0</td>\n",
              "      <td>1</td>\n",
              "      <td>0</td>\n",
              "      <td>1</td>\n",
              "      <td>0</td>\n",
              "    </tr>\n",
              "    <tr>\n",
              "      <th>3</th>\n",
              "      <td>895.0</td>\n",
              "      <td>3.0</td>\n",
              "      <td>27.0</td>\n",
              "      <td>0.0</td>\n",
              "      <td>0.0</td>\n",
              "      <td>8.6625</td>\n",
              "      <td>0</td>\n",
              "      <td>1</td>\n",
              "      <td>0</td>\n",
              "      <td>0</td>\n",
              "      <td>1</td>\n",
              "    </tr>\n",
              "    <tr>\n",
              "      <th>4</th>\n",
              "      <td>896.0</td>\n",
              "      <td>3.0</td>\n",
              "      <td>22.0</td>\n",
              "      <td>1.0</td>\n",
              "      <td>1.0</td>\n",
              "      <td>12.2875</td>\n",
              "      <td>1</td>\n",
              "      <td>0</td>\n",
              "      <td>0</td>\n",
              "      <td>0</td>\n",
              "      <td>1</td>\n",
              "    </tr>\n",
              "  </tbody>\n",
              "</table>\n",
              "</div>"
            ],
            "text/plain": [
              "   PassengerId  Pclass   Age  ...  Embarked_C  Embarked_Q  Embarked_S\n",
              "0        892.0     3.0  34.5  ...           0           1           0\n",
              "1        893.0     3.0  47.0  ...           0           0           1\n",
              "2        894.0     2.0  62.0  ...           0           1           0\n",
              "3        895.0     3.0  27.0  ...           0           0           1\n",
              "4        896.0     3.0  22.0  ...           0           0           1\n",
              "\n",
              "[5 rows x 11 columns]"
            ]
          },
          "metadata": {
            "tags": []
          },
          "execution_count": 104
        }
      ]
    },
    {
      "cell_type": "code",
      "metadata": {
        "id": "EtQbikwOZjuI",
        "colab_type": "code",
        "colab": {
          "base_uri": "https://localhost:8080/",
          "height": 67
        },
        "outputId": "9553e7c6-a14e-4dbd-b038-e7d4bd11d84d"
      },
      "source": [
        "from sklearn.feature_extraction.text import TfidfVectorizer\n",
        "from sklearn.cluster import KMeans\n",
        "from sklearn.metrics import adjusted_rand_score\n",
        "\n",
        "model = KMeans(n_clusters=5, init='k-means++', max_iter=100, n_init=1)\n",
        "model.fit(train)"
      ],
      "execution_count": 105,
      "outputs": [
        {
          "output_type": "execute_result",
          "data": {
            "text/plain": [
              "KMeans(algorithm='auto', copy_x=True, init='k-means++', max_iter=100,\n",
              "       n_clusters=5, n_init=1, n_jobs=None, precompute_distances='auto',\n",
              "       random_state=None, tol=0.0001, verbose=0)"
            ]
          },
          "metadata": {
            "tags": []
          },
          "execution_count": 105
        }
      ]
    },
    {
      "cell_type": "code",
      "metadata": {
        "id": "VeMKHzRkaJok",
        "colab_type": "code",
        "colab": {
          "base_uri": "https://localhost:8080/",
          "height": 1000
        },
        "outputId": "7858d865-25bf-4e3d-f191-aa7055032dfb"
      },
      "source": [
        "print(\"Top terms per cluster:\")\n",
        "order_centroids = model.cluster_centers_.argsort()[:, ::-1]\n",
        "for i in range(5):\n",
        "    print(\"\\n Cluster %d:\" % i),\n",
        "    for ind in order_centroids[i, :10]:\n",
        "        print(train.iloc[ind].tolist())#('   %s' % terms[ind]),\n",
        "    print"
      ],
      "execution_count": 106,
      "outputs": [
        {
          "output_type": "stream",
          "text": [
            "Top terms per cluster:\n",
            "\n",
            " Cluster 0:\n",
            "[892.0, 3.0, 34.5, 0.0, 0.0, 7.8292, 0.0, 1.0, 0.0, 1.0, 0.0]\n",
            "[894.0, 2.0, 62.0, 0.0, 0.0, 9.6875, 0.0, 1.0, 0.0, 1.0, 0.0]\n",
            "[897.0, 3.0, 14.0, 0.0, 0.0, 9.225, 0.0, 1.0, 0.0, 0.0, 1.0]\n",
            "[893.0, 3.0, 47.0, 1.0, 0.0, 7.0, 1.0, 0.0, 0.0, 0.0, 1.0]\n",
            "[899.0, 2.0, 26.0, 1.0, 1.0, 29.0, 0.0, 1.0, 0.0, 0.0, 1.0]\n",
            "[902.0, 3.0, 27.0, 0.0, 0.0, 7.8958, 0.0, 1.0, 0.0, 0.0, 1.0]\n",
            "[895.0, 3.0, 27.0, 0.0, 0.0, 8.6625, 0.0, 1.0, 0.0, 0.0, 1.0]\n",
            "[898.0, 3.0, 30.0, 0.0, 0.0, 7.6292, 1.0, 0.0, 0.0, 1.0, 0.0]\n",
            "[896.0, 3.0, 22.0, 1.0, 1.0, 12.2875, 1.0, 0.0, 0.0, 0.0, 1.0]\n",
            "[900.0, 3.0, 18.0, 0.0, 0.0, 7.2292, 1.0, 0.0, 1.0, 0.0, 0.0]\n",
            "\n",
            " Cluster 1:\n",
            "[892.0, 3.0, 34.5, 0.0, 0.0, 7.8292, 0.0, 1.0, 0.0, 1.0, 0.0]\n",
            "[894.0, 2.0, 62.0, 0.0, 0.0, 9.6875, 0.0, 1.0, 0.0, 1.0, 0.0]\n",
            "[897.0, 3.0, 14.0, 0.0, 0.0, 9.225, 0.0, 1.0, 0.0, 0.0, 1.0]\n",
            "[893.0, 3.0, 47.0, 1.0, 0.0, 7.0, 1.0, 0.0, 0.0, 0.0, 1.0]\n",
            "[899.0, 2.0, 26.0, 1.0, 1.0, 29.0, 0.0, 1.0, 0.0, 0.0, 1.0]\n",
            "[902.0, 3.0, 27.0, 0.0, 0.0, 7.8958, 0.0, 1.0, 0.0, 0.0, 1.0]\n",
            "[895.0, 3.0, 27.0, 0.0, 0.0, 8.6625, 0.0, 1.0, 0.0, 0.0, 1.0]\n",
            "[898.0, 3.0, 30.0, 0.0, 0.0, 7.6292, 1.0, 0.0, 0.0, 1.0, 0.0]\n",
            "[900.0, 3.0, 18.0, 0.0, 0.0, 7.2292, 1.0, 0.0, 1.0, 0.0, 0.0]\n",
            "[896.0, 3.0, 22.0, 1.0, 1.0, 12.2875, 1.0, 0.0, 0.0, 0.0, 1.0]\n",
            "\n",
            " Cluster 2:\n",
            "[892.0, 3.0, 34.5, 0.0, 0.0, 7.8292, 0.0, 1.0, 0.0, 1.0, 0.0]\n",
            "[897.0, 3.0, 14.0, 0.0, 0.0, 9.225, 0.0, 1.0, 0.0, 0.0, 1.0]\n",
            "[894.0, 2.0, 62.0, 0.0, 0.0, 9.6875, 0.0, 1.0, 0.0, 1.0, 0.0]\n",
            "[893.0, 3.0, 47.0, 1.0, 0.0, 7.0, 1.0, 0.0, 0.0, 0.0, 1.0]\n",
            "[896.0, 3.0, 22.0, 1.0, 1.0, 12.2875, 1.0, 0.0, 0.0, 0.0, 1.0]\n",
            "[895.0, 3.0, 27.0, 0.0, 0.0, 8.6625, 0.0, 1.0, 0.0, 0.0, 1.0]\n",
            "[898.0, 3.0, 30.0, 0.0, 0.0, 7.6292, 1.0, 0.0, 0.0, 1.0, 0.0]\n",
            "[900.0, 3.0, 18.0, 0.0, 0.0, 7.2292, 1.0, 0.0, 1.0, 0.0, 0.0]\n",
            "[902.0, 3.0, 27.0, 0.0, 0.0, 7.8958, 0.0, 1.0, 0.0, 0.0, 1.0]\n",
            "[899.0, 2.0, 26.0, 1.0, 1.0, 29.0, 0.0, 1.0, 0.0, 0.0, 1.0]\n",
            "\n",
            " Cluster 3:\n",
            "[892.0, 3.0, 34.5, 0.0, 0.0, 7.8292, 0.0, 1.0, 0.0, 1.0, 0.0]\n",
            "[897.0, 3.0, 14.0, 0.0, 0.0, 9.225, 0.0, 1.0, 0.0, 0.0, 1.0]\n",
            "[894.0, 2.0, 62.0, 0.0, 0.0, 9.6875, 0.0, 1.0, 0.0, 1.0, 0.0]\n",
            "[893.0, 3.0, 47.0, 1.0, 0.0, 7.0, 1.0, 0.0, 0.0, 0.0, 1.0]\n",
            "[902.0, 3.0, 27.0, 0.0, 0.0, 7.8958, 0.0, 1.0, 0.0, 0.0, 1.0]\n",
            "[899.0, 2.0, 26.0, 1.0, 1.0, 29.0, 0.0, 1.0, 0.0, 0.0, 1.0]\n",
            "[895.0, 3.0, 27.0, 0.0, 0.0, 8.6625, 0.0, 1.0, 0.0, 0.0, 1.0]\n",
            "[896.0, 3.0, 22.0, 1.0, 1.0, 12.2875, 1.0, 0.0, 0.0, 0.0, 1.0]\n",
            "[898.0, 3.0, 30.0, 0.0, 0.0, 7.6292, 1.0, 0.0, 0.0, 1.0, 0.0]\n",
            "[900.0, 3.0, 18.0, 0.0, 0.0, 7.2292, 1.0, 0.0, 1.0, 0.0, 0.0]\n",
            "\n",
            " Cluster 4:\n",
            "[892.0, 3.0, 34.5, 0.0, 0.0, 7.8292, 0.0, 1.0, 0.0, 1.0, 0.0]\n",
            "[894.0, 2.0, 62.0, 0.0, 0.0, 9.6875, 0.0, 1.0, 0.0, 1.0, 0.0]\n",
            "[897.0, 3.0, 14.0, 0.0, 0.0, 9.225, 0.0, 1.0, 0.0, 0.0, 1.0]\n",
            "[893.0, 3.0, 47.0, 1.0, 0.0, 7.0, 1.0, 0.0, 0.0, 0.0, 1.0]\n",
            "[902.0, 3.0, 27.0, 0.0, 0.0, 7.8958, 0.0, 1.0, 0.0, 0.0, 1.0]\n",
            "[899.0, 2.0, 26.0, 1.0, 1.0, 29.0, 0.0, 1.0, 0.0, 0.0, 1.0]\n",
            "[896.0, 3.0, 22.0, 1.0, 1.0, 12.2875, 1.0, 0.0, 0.0, 0.0, 1.0]\n",
            "[895.0, 3.0, 27.0, 0.0, 0.0, 8.6625, 0.0, 1.0, 0.0, 0.0, 1.0]\n",
            "[898.0, 3.0, 30.0, 0.0, 0.0, 7.6292, 1.0, 0.0, 0.0, 1.0, 0.0]\n",
            "[900.0, 3.0, 18.0, 0.0, 0.0, 7.2292, 1.0, 0.0, 1.0, 0.0, 0.0]\n"
          ],
          "name": "stdout"
        }
      ]
    },
    {
      "cell_type": "code",
      "metadata": {
        "id": "OrEB5ZqOiP9H",
        "colab_type": "code",
        "colab": {
          "base_uri": "https://localhost:8080/",
          "height": 265
        },
        "outputId": "04bb1f5f-f3b0-4e5c-e5ca-4451fcb702d9"
      },
      "source": [
        "import numpy as np\n",
        "z = plt.scatter(train.Fare, train.Age, train.Pclass, c = model.labels_)"
      ],
      "execution_count": 115,
      "outputs": [
        {
          "output_type": "display_data",
          "data": {
            "image/png": "[encoded data removed]",
            "text/plain": [
              "<Figure size 432x288 with 1 Axes>"
            ]
          },
          "metadata": {
            "tags": [],
            "needs_background": "light"
          }
        }
      ]
    },
    {
      "cell_type": "markdown",
      "metadata": {
        "id": "IxAcs3vOnx6l",
        "colab_type": "text"
      },
      "source": [
        "https://www.naftaliharris.com/blog/visualizing-dbscan-clustering/"
      ]
    },
    {
      "cell_type": "code",
      "metadata": {
        "id": "7OueLqxbmY71",
        "colab_type": "code",
        "colab": {
          "base_uri": "https://localhost:8080/",
          "height": 252
        },
        "outputId": "cd3e6ae1-bacb-4d81-f1d5-8d0e3dbe26a4"
      },
      "source": [
        "print(train.head())\n",
        "train_simples = train.drop(['PassengerId', 'Embarked_C',  'Embarked_Q' , 'Embarked_S', 'Sex_female' , 'Sex_male', 'SibSp' , 'Parch', 'Pclass'], axis=1)\n",
        "print(train_simples.head())"
      ],
      "execution_count": 122,
      "outputs": [
        {
          "output_type": "stream",
          "text": [
            "   PassengerId  Pclass   Age  ...  Embarked_C  Embarked_Q  Embarked_S\n",
            "0        892.0     3.0  34.5  ...           0           1           0\n",
            "1        893.0     3.0  47.0  ...           0           0           1\n",
            "2        894.0     2.0  62.0  ...           0           1           0\n",
            "3        895.0     3.0  27.0  ...           0           0           1\n",
            "4        896.0     3.0  22.0  ...           0           0           1\n",
            "\n",
            "[5 rows x 11 columns]\n",
            "    Age     Fare\n",
            "0  34.5   7.8292\n",
            "1  47.0   7.0000\n",
            "2  62.0   9.6875\n",
            "3  27.0   8.6625\n",
            "4  22.0  12.2875\n"
          ],
          "name": "stdout"
        }
      ]
    },
    {
      "cell_type": "code",
      "metadata": {
        "id": "MHUHBJZPnyKw",
        "colab_type": "code",
        "colab": {
          "base_uri": "https://localhost:8080/",
          "height": 483
        },
        "outputId": "408b0de5-1a35-4113-a364-ecf1963b2f0f"
      },
      "source": [
        "from sklearn.feature_extraction.text import TfidfVectorizer\n",
        "from sklearn.cluster import KMeans\n",
        "from sklearn.metrics import adjusted_rand_score\n",
        "\n",
        "model = KMeans(n_clusters=3, init='k-means++', max_iter=100, n_init=1)\n",
        "model.fit(train_simples)\n",
        "\n",
        "print(\"Top terms per cluster:\")\n",
        "order_centroids = model.cluster_centers_.argsort()[:, ::-1]\n",
        "for i in range(3):\n",
        "    print(\"\\n Cluster %d:\" % i),\n",
        "    for ind in order_centroids[i, :10]:\n",
        "        print(train_simples.iloc[ind].tolist())#('   %s' % terms[ind]),\n",
        "    print\n",
        "\n",
        "import numpy as np\n",
        "z = plt.scatter(train_simples.Fare, train_simples.Age, c = model.labels_)"
      ],
      "execution_count": 123,
      "outputs": [
        {
          "output_type": "stream",
          "text": [
            "Top terms per cluster:\n",
            "\n",
            " Cluster 0:\n",
            "[47.0, 7.0]\n",
            "[34.5, 7.8292]\n",
            "\n",
            " Cluster 1:\n",
            "[47.0, 7.0]\n",
            "[34.5, 7.8292]\n",
            "\n",
            " Cluster 2:\n",
            "[34.5, 7.8292]\n",
            "[47.0, 7.0]\n"
          ],
          "name": "stdout"
        },
        {
          "output_type": "display_data",
          "data": {
            "image/png": "[encoded data removed]",
            "text/plain": [
              "<Figure size 432x288 with 1 Axes>"
            ]
          },
          "metadata": {
            "tags": [],
            "needs_background": "light"
          }
        }
      ]
    },
    {
      "cell_type": "code",
      "metadata": {
        "id": "kmwcOfVynyOD",
        "colab_type": "code",
        "colab": {}
      },
      "source": [
        ""
      ],
      "execution_count": 0,
      "outputs": []
    },
    {
      "cell_type": "code",
      "metadata": {
        "id": "2pH-ZCNNnyW5",
        "colab_type": "code",
        "colab": {}
      },
      "source": [
        ""
      ],
      "execution_count": 0,
      "outputs": []
    },
    {
      "cell_type": "code",
      "metadata": {
        "id": "mqoYHqUMnyaF",
        "colab_type": "code",
        "colab": {}
      },
      "source": [
        ""
      ],
      "execution_count": 0,
      "outputs": []
    }
  ]
}